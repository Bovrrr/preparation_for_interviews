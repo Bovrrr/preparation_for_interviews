{
  "nbformat": 4,
  "nbformat_minor": 0,
  "metadata": {
    "colab": {
      "provenance": [],
      "collapsed_sections": []
    },
    "kernelspec": {
      "name": "python3",
      "display_name": "Python 3"
    },
    "language_info": {
      "name": "python"
    }
  },
  "cells": [
    {
      "cell_type": "code",
      "execution_count": 51,
      "metadata": {
        "id": "OAvHpIxe8yHI"
      },
      "outputs": [],
      "source": [
        "import numpy as np\n",
        "import torch\n"
      ]
    },
    {
      "cell_type": "code",
      "source": [],
      "metadata": {
        "id": "tYXFL6ci9AwX"
      },
      "execution_count": 6,
      "outputs": []
    },
    {
      "cell_type": "code",
      "source": [
        "#x = torch.empty(2, 3)\n",
        "#x = torch.rand((2, 2), )\n",
        "#x = torch.zeros((2,2))\n",
        "#x = torch.ones((2,2), dtype=torch.float32)\n",
        "x = torch.tensor([2.5, 0.1])\n",
        "\n",
        "\n",
        "x\n",
        "\n"
      ],
      "metadata": {
        "colab": {
          "base_uri": "https://localhost:8080/"
        },
        "id": "iRVutCJJ83Vh",
        "outputId": "8022f311-8de8-477c-c984-b71b80e856fe"
      },
      "execution_count": 20,
      "outputs": [
        {
          "output_type": "execute_result",
          "data": {
            "text/plain": [
              "tensor([2.5000, 0.1000], dtype=torch.float16)"
            ]
          },
          "metadata": {},
          "execution_count": 20
        }
      ]
    },
    {
      "cell_type": "code",
      "source": [
        "x = torch.rand((2,2))\n",
        "y = torch.rand((2,2))\n",
        "\n",
        "print(x, y, sep=\"\\n\")\n",
        "\n",
        "z = x+y\n",
        "print(z)"
      ],
      "metadata": {
        "colab": {
          "base_uri": "https://localhost:8080/"
        },
        "id": "-RrJTFh583Te",
        "outputId": "85d1a4f8-77e9-44c5-d356-b54a040bb1a2"
      },
      "execution_count": 24,
      "outputs": [
        {
          "output_type": "stream",
          "name": "stdout",
          "text": [
            "tensor([[0.1309, 0.7620],\n",
            "        [0.0076, 0.1957]])\n",
            "tensor([[0.2042, 0.3519],\n",
            "        [0.5786, 0.9710]])\n",
            "tensor([[True, True],\n",
            "        [True, True]])\n"
          ]
        }
      ]
    },
    {
      "cell_type": "code",
      "source": [
        "display(\n",
        "    torch.add(x, y),\n",
        "    torch.sub(x, y),\n",
        "    torch.div(x,y),\n",
        ")"
      ],
      "metadata": {
        "colab": {
          "base_uri": "https://localhost:8080/",
          "height": 127
        },
        "id": "1oeCpu_f83RP",
        "outputId": "221ed7b0-09cc-4fe5-b92e-1662a59f389a"
      },
      "execution_count": 29,
      "outputs": [
        {
          "output_type": "display_data",
          "data": {
            "text/plain": [
              "tensor([[0.3352, 1.1139],\n",
              "        [0.5862, 1.1667]])"
            ]
          },
          "metadata": {}
        },
        {
          "output_type": "display_data",
          "data": {
            "text/plain": [
              "tensor([[-0.0733,  0.4101],\n",
              "        [-0.5710, -0.7753]])"
            ]
          },
          "metadata": {}
        },
        {
          "output_type": "display_data",
          "data": {
            "text/plain": [
              "tensor([[0.6411, 2.1652],\n",
              "        [0.0131, 0.2015]])"
            ]
          },
          "metadata": {}
        }
      ]
    },
    {
      "cell_type": "code",
      "source": [
        "#x = torch.rand((5, 3))\n",
        "\n",
        "display(\n",
        "    x,\n",
        "    x[1],\n",
        "    x[1, :],\n",
        "    x[1,1].item(),\n",
        ")\n"
      ],
      "metadata": {
        "colab": {
          "base_uri": "https://localhost:8080/",
          "height": 163
        },
        "id": "WJOpXFAl82yH",
        "outputId": "95dc6e2b-516c-4a6f-d997-c260a76fdee8"
      },
      "execution_count": 36,
      "outputs": [
        {
          "output_type": "display_data",
          "data": {
            "text/plain": [
              "tensor([[0.8067, 0.5741, 0.2214],\n",
              "        [0.8021, 0.7221, 0.6468],\n",
              "        [0.4451, 0.1055, 0.4739],\n",
              "        [0.5912, 0.7588, 0.9050],\n",
              "        [0.2775, 0.6399, 0.1725]])"
            ]
          },
          "metadata": {}
        },
        {
          "output_type": "display_data",
          "data": {
            "text/plain": [
              "tensor([0.8021, 0.7221, 0.6468])"
            ]
          },
          "metadata": {}
        },
        {
          "output_type": "display_data",
          "data": {
            "text/plain": [
              "tensor([0.8021, 0.7221, 0.6468])"
            ]
          },
          "metadata": {}
        },
        {
          "output_type": "display_data",
          "data": {
            "text/plain": [
              "0.7221497297286987"
            ]
          },
          "metadata": {}
        }
      ]
    },
    {
      "cell_type": "code",
      "source": [
        "x = torch.rand((4, 4))\n",
        "y = x.view(-1, 8)\n",
        "y.size(), y\n"
      ],
      "metadata": {
        "colab": {
          "base_uri": "https://localhost:8080/"
        },
        "id": "4bh8SPKDCEMG",
        "outputId": "80d4aa7e-7a64-45db-a7e6-1422469b1e49"
      },
      "execution_count": 43,
      "outputs": [
        {
          "output_type": "execute_result",
          "data": {
            "text/plain": [
              "(torch.Size([2, 8]),\n",
              " tensor([[0.7669, 0.4311, 0.2418, 0.2316, 0.5222, 0.9808, 0.8330, 0.3550],\n",
              "         [0.8741, 0.2466, 0.4146, 0.3872, 0.1337, 0.9450, 0.5135, 0.4724]]))"
            ]
          },
          "metadata": {},
          "execution_count": 43
        }
      ]
    },
    {
      "cell_type": "code",
      "source": [],
      "metadata": {
        "colab": {
          "base_uri": "https://localhost:8080/"
        },
        "id": "-DOZk_nICEJ5",
        "outputId": "d3332473-963d-4652-82ef-f2a0bfb230d6"
      },
      "execution_count": 39,
      "outputs": [
        {
          "output_type": "execute_result",
          "data": {
            "text/plain": [
              "tensor([0.0177, 0.1099, 0.6897, 0.7724, 0.3450, 0.3947, 0.5538, 0.6942, 0.2600,\n",
              "        0.2309, 0.8313, 0.1837, 0.2239, 0.1700, 0.2723, 0.4918])"
            ]
          },
          "metadata": {},
          "execution_count": 39
        }
      ]
    },
    {
      "cell_type": "code",
      "source": [
        "a = torch.ones(5)\n",
        "print(a, type(a))\n",
        "b = a.numpy()\n",
        "print(b, type(b))\n",
        "b += 2\n",
        "print(a)\n",
        "print(b)"
      ],
      "metadata": {
        "colab": {
          "base_uri": "https://localhost:8080/"
        },
        "id": "3QAwCNn6CEHp",
        "outputId": "8993d876-4eb0-4967-d329-51993bfc58ce"
      },
      "execution_count": 50,
      "outputs": [
        {
          "output_type": "stream",
          "name": "stdout",
          "text": [
            "tensor([1., 1., 1., 1., 1.]) <class 'torch.Tensor'>\n",
            "[1. 1. 1. 1. 1.] <class 'numpy.ndarray'>\n",
            "tensor([3., 3., 3., 3., 3.])\n",
            "[3. 3. 3. 3. 3.]\n"
          ]
        }
      ]
    },
    {
      "cell_type": "code",
      "source": [
        "a = np.ones(5)\n",
        "print(a)\n",
        "b = torch.from_numpy(a)\n",
        "print(b)\n",
        "\n",
        "a += 2\n",
        "print(a)\n",
        "print(b)\n"
      ],
      "metadata": {
        "colab": {
          "base_uri": "https://localhost:8080/"
        },
        "id": "vTUD8cITDBth",
        "outputId": "804b752b-0212-4d01-bbc1-bdc1736afb91"
      },
      "execution_count": 55,
      "outputs": [
        {
          "output_type": "stream",
          "name": "stdout",
          "text": [
            "[1. 1. 1. 1. 1.]\n",
            "tensor([1., 1., 1., 1., 1.], dtype=torch.float64)\n",
            "[3. 3. 3. 3. 3.]\n",
            "tensor([3., 3., 3., 3., 3.], dtype=torch.float64)\n"
          ]
        }
      ]
    },
    {
      "cell_type": "code",
      "source": [
        "torch.cuda.is_available()"
      ],
      "metadata": {
        "colab": {
          "base_uri": "https://localhost:8080/"
        },
        "id": "gW6EHGH6DBrX",
        "outputId": "376d57d4-7171-48e9-81c0-c1d4e6c186db"
      },
      "execution_count": 58,
      "outputs": [
        {
          "output_type": "execute_result",
          "data": {
            "text/plain": [
              "False"
            ]
          },
          "metadata": {},
          "execution_count": 58
        }
      ]
    },
    {
      "cell_type": "code",
      "source": [
        "torch.device(\"cuda\")"
      ],
      "metadata": {
        "colab": {
          "base_uri": "https://localhost:8080/"
        },
        "id": "fPsl0X5wCEFP",
        "outputId": "9116ea11-3e33-4af5-cbdc-14b469c06016"
      },
      "execution_count": 61,
      "outputs": [
        {
          "output_type": "execute_result",
          "data": {
            "text/plain": [
              "device(type='cuda')"
            ]
          },
          "metadata": {},
          "execution_count": 61
        }
      ]
    },
    {
      "cell_type": "code",
      "source": [
        "if torch.cuda.is_available():\n",
        "  device = torch.device(\"cuda\")\n",
        "  x = torch.ones(5, device=device)\n",
        "  y = torch.ones(5)\n",
        "  y=y.to(device)\n",
        "  z = x+y\n",
        "  z = z.to(\"cpu\")"
      ],
      "metadata": {
        "id": "fLjhAKgpFCON"
      },
      "execution_count": null,
      "outputs": []
    },
    {
      "cell_type": "code",
      "source": [
        "x = torch.ones(5, requires_grad=True)\n",
        "print(x)\n",
        "\n"
      ],
      "metadata": {
        "colab": {
          "base_uri": "https://localhost:8080/"
        },
        "id": "3M71yYI2E1T0",
        "outputId": "810251c7-7ef7-4e75-8074-038e600e94a8"
      },
      "execution_count": 62,
      "outputs": [
        {
          "output_type": "stream",
          "name": "stdout",
          "text": [
            "tensor([1., 1., 1., 1., 1.], requires_grad=True)\n"
          ]
        }
      ]
    },
    {
      "cell_type": "code",
      "source": [],
      "metadata": {
        "id": "aeHN0plVE1SP"
      },
      "execution_count": null,
      "outputs": []
    },
    {
      "cell_type": "code",
      "source": [],
      "metadata": {
        "id": "tvdUN-6NE1Pp"
      },
      "execution_count": null,
      "outputs": []
    },
    {
      "cell_type": "code",
      "source": [],
      "metadata": {
        "id": "yWOJTWVsCEDS"
      },
      "execution_count": null,
      "outputs": []
    }
  ]
}